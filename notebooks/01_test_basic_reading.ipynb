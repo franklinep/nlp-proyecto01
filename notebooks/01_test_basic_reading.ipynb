{
 "cells": [
  {
   "cell_type": "markdown",
   "metadata": {},
   "source": [
    "# Prueba de Lectura Secuencial Básica\n",
    "Este notebook prueba la lectura de datos usando el dataset 20 Newsgroups cargado con Scikit-learn."
   ]
  },
  {
   "cell_type": "code",
   "execution_count": null,
   "metadata": {},
   "outputs": [],
   "source": [
    "# importamos librerias\n",
    "from sklearn.datasets import fetch_20newsgroups"
   ]
  },
  {
   "cell_type": "code",
   "execution_count": null,
   "metadata": {},
   "outputs": [
    {
     "name": "stdout",
     "output_type": "stream",
     "text": [
      "Número de documentos cargados: 18846\n"
     ]
    }
   ],
   "source": [
    "# cargamos nuestro dataset sin headers, footers ni quotes\n",
    "newsgroups_data = fetch_20newsgroups(subset='all',\n",
    "                                     remove=('headers', 'footers', 'quotes'),\n",
    "                                     data_home='../notebooks/data/20newsgroups_cache')\n",
    "print(f\"Número de documentos cargados: {len(newsgroups_data.data)}\")"
   ]
  },
  {
   "cell_type": "code",
   "execution_count": 23,
   "metadata": {},
   "outputs": [
    {
     "name": "stdout",
     "output_type": "stream",
     "text": [
      "\n",
      "--- Documento 1 (712 chars) ---\n",
      "\n",
      "\n",
      "I am sure some bashers of Pens fans are pretty confused about the lack\n",
      "of any kind of posts about the recent Pens massacre of the Devils. Actually,\n",
      "I am  bit puzzled too and a bit relieved. However, I am going to put an end\n",
      "to non-PIttsburghers' relief with a bit of praise for the Pens. Man, they\n",
      "are killing those Devils worse than I thought. Jagr just showed you why\n",
      "he is much better than his regular season stats. He is also a lot\n",
      "fo fun to watch in the playoffs. Bowman should let JAgr have a...\n",
      "\n",
      "--- Documento 2 (324 chars) ---\n",
      "My brother is in the market for a high-performance video card that supports\n",
      "VESA local bus with 1-2MB RAM.  Does anyone have suggestions/ideas on:\n",
      "\n",
      "  - Diamond Stealth Pro Local Bus\n",
      "\n",
      "  - Orchid Farenheit 1280\n",
      "\n",
      "  - ATI Graphics Ultra Pro\n",
      "\n",
      "  - Any other high-performance VLB card\n",
      "\n",
      "\n",
      "Please post or email.  Thank you!\n",
      "\n",
      "  - Matt\n",
      "\n",
      "\n",
      "--- Fin del procesamiento ---\n",
      "Total de documentos procesados: 3\n",
      "Total de caracteres procesados: 2714\n"
     ]
    }
   ],
   "source": [
    "# definimos nuestros parametros de procesamiento\n",
    "max_docs_to_show = 2\n",
    "max_chars_per_doc = 500\n",
    "\n",
    "# inicializamos los contadores\n",
    "processed_count = 0\n",
    "total_chars = 0\n",
    "\n",
    "for i, doc_text in enumerate(newsgroups_data.data):\n",
    "    # aqui estamos obviando los docs cuyos textos esten vacios o sean None\n",
    "    if doc_text is not None and len(doc_text.strip()) > 0:\n",
    "        current_chars = len(doc_text)\n",
    "        total_chars += current_chars\n",
    "        processed_count += 1\n",
    "        if i < max_docs_to_show:\n",
    "             print(f\"\\n--- Documento {i+1} ({current_chars} chars) ---\")\n",
    "             print(doc_text[:max_chars_per_doc] + \"...\" if current_chars > max_chars_per_doc else doc_text)\n",
    "        else:\n",
    "            break\n",
    "\n",
    "print(\"\\n--- Fin del procesamiento ---\")\n",
    "print(f\"Total de documentos procesados: {processed_count}\")\n",
    "print(f\"Total de caracteres procesados: {total_chars}\")"
   ]
  }
 ],
 "metadata": {
  "kernelspec": {
   "display_name": "env_nlp",
   "language": "python",
   "name": "python3"
  },
  "language_info": {
   "codemirror_mode": {
    "name": "ipython",
    "version": 3
   },
   "file_extension": ".py",
   "mimetype": "text/x-python",
   "name": "python",
   "nbconvert_exporter": "python",
   "pygments_lexer": "ipython3",
   "version": "3.13.2"
  }
 },
 "nbformat": 4,
 "nbformat_minor": 2
}
