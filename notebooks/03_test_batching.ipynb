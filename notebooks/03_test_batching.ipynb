{
 "cells": [
  {
   "cell_type": "markdown",
   "metadata": {},
   "source": [
    "# Implementación de Batching\n",
    "\n",
    "**Objetivo:** Crear una función generadora que agrupe una lista de datos (documentos) en lotes (batches) de un tamaño especificado. Probar el generador con el dataset 20 Newsgroups."
   ]
  },
  {
   "cell_type": "code",
   "execution_count": 1,
   "metadata": {},
   "outputs": [],
   "source": [
    "import time\n",
    "from sklearn.datasets import fetch_20newsgroups"
   ]
  },
  {
   "cell_type": "code",
   "execution_count": 2,
   "metadata": {},
   "outputs": [
    {
     "name": "stdout",
     "output_type": "stream",
     "text": [
      "Dataset cargado en 1.24 segundos.\n",
      "Número total de documentos: 18846\n"
     ]
    }
   ],
   "source": [
    "start_time = time.time()\n",
    "newsgroups_data = fetch_20newsgroups(subset='all',\n",
    "                                     remove=('headers', 'footers', 'quotes'))\n",
    "end_time = time.time()\n",
    "print(f\"Dataset cargado en {end_time - start_time:.2f} segundos.\")\n",
    "\n",
    "documents = newsgroups_data.data\n",
    "num_docs = len(documents)\n",
    "print(f\"Número total de documentos: {num_docs}\")\n",
    "\n",
    "del newsgroups_data"
   ]
  },
  {
   "cell_type": "code",
   "execution_count": 3,
   "metadata": {},
   "outputs": [],
   "source": [
    "def batch_generator(data_list, batch_size):\n",
    "    \"\"\"\n",
    "    Generador que divide una lista de datos en lotes (batches).\n",
    "\n",
    "    Args:\n",
    "        data_list (list): La lista completa de datos a dividir.\n",
    "        batch_size (int): El tamaño deseado para cada lote.\n",
    "\n",
    "    Yields:\n",
    "        list: Un lote  de datos. El último lote puede ser más pequeño.\n",
    "              No produce nada si la lista de entrada está vacía o batch_size <= 0.\n",
    "    \"\"\"\n",
    "    if not data_list or batch_size <= 0:\n",
    "        print(\"Advertencia: La lista de datos está vacía o el tamaño de lote es inválido. No se generarán lotes.\")\n",
    "        return\n",
    "\n",
    "    num_total_items = len(data_list)\n",
    "    # Iteramos sobre la lista en pasos de tamaño batch_size\n",
    "    for start_index in range(0, num_total_items, batch_size):\n",
    "        end_index = start_index + batch_size\n",
    "        batch = data_list[start_index:end_index]\n",
    "        yield batch"
   ]
  },
  {
   "cell_type": "code",
   "execution_count": 7,
   "metadata": {},
   "outputs": [
    {
     "name": "stdout",
     "output_type": "stream",
     "text": [
      "  Lote 1: Tamaño = 4096\n",
      "    Primeros elementos (inicio):\n",
      "      1: '\n",
      "\n",
      "I am sure some bashers of Pens fans are pretty confused about the lack\n",
      "of any ...'\n",
      "      2: 'My brother is in the market for a high-performance video card that supports\n",
      "VESA...'\n",
      "      3: '\n",
      "\n",
      "\n",
      "\n",
      "\tFinally you said what you dream about. Mediterranean???? That was new....\n",
      "\t...'\n",
      "  Lote 2: Tamaño = 4096\n",
      "  Lote 3: Tamaño = 4096\n",
      "  Lote 4: Tamaño = 4096\n",
      "  Lote 5: Tamaño = 2462\n",
      "\n",
      "--- Resumen de la prueba del generador ---\n",
      "Tamaño de lote configurado: 4096\n",
      "Número total de documentos: 18846\n",
      "Número de lotes generados: 5\n",
      "Número esperado de lotes: 5\n",
      "Total de ítems procesados en lotes: 18846\n"
     ]
    }
   ],
   "source": [
    "batch_size = 4096\n",
    "batch_gen = batch_generator(documents, batch_size)\n",
    "\n",
    "num_batches_yielded = 0\n",
    "first_batch_sample = None\n",
    "total_items_in_batches = 0\n",
    "\n",
    "# Iteramos sobre el generador para obtener los lotes\n",
    "for i, current_batch in enumerate(batch_gen):\n",
    "    num_batches_yielded += 1\n",
    "    batch_len = len(current_batch)\n",
    "    total_items_in_batches += batch_len\n",
    "    # Realizamos la impresion de los primeros elementos del primer lote, luego mostramos solamente su tamaño\n",
    "    if i == 0:\n",
    "        first_batch_sample = current_batch\n",
    "        print(f\"  Lote {i+1}: Tamaño = {batch_len}\")\n",
    "        print(\"    Primeros elementos (inicio):\")\n",
    "        for j, item in enumerate(current_batch[:3]):\n",
    "             print(f\"      {j+1}: '{item[:80]}...'\")\n",
    "    elif i > 0:\n",
    "        print(f\"  Lote {i+1}: Tamaño = {batch_len}\")\n",
    "\n",
    "# Calcular cuántos lotes esperábamos\n",
    "expected_batches = (num_docs + batch_size - 1) // batch_size if num_docs > 0 and batch_size > 0 else 0\n",
    "\n",
    "print(\"\\n--- Resumen de la prueba del generador ---\")\n",
    "print(f\"Tamaño de lote configurado: {batch_size}\")\n",
    "print(f\"Número total de documentos: {num_docs}\")\n",
    "print(f\"Número de lotes generados: {num_batches_yielded}\")\n",
    "print(f\"Número esperado de lotes: {expected_batches}\")\n",
    "print(f\"Total de ítems procesados en lotes: {total_items_in_batches}\")"
   ]
  }
 ],
 "metadata": {
  "kernelspec": {
   "display_name": ".venv",
   "language": "python",
   "name": "python3"
  },
  "language_info": {
   "codemirror_mode": {
    "name": "ipython",
    "version": 3
   },
   "file_extension": ".py",
   "mimetype": "text/x-python",
   "name": "python",
   "nbconvert_exporter": "python",
   "pygments_lexer": "ipython3",
   "version": "3.9.0"
  }
 },
 "nbformat": 4,
 "nbformat_minor": 2
}
