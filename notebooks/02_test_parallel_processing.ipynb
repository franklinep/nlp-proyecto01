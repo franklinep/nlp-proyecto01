{
 "cells": [
  {
   "cell_type": "markdown",
   "metadata": {},
   "source": [
    "#  Procesamiento Paralelo Básico\n",
    "\n",
    "**Objetivo?:** Implementar y comparar el procesamiento secuencial vs. paralelo de los documentos del dataset 20 Newsgroups. Utilizaremos `multiprocessing` para aprovechar múltiples núcleos de CPU."
   ]
  },
  {
   "cell_type": "code",
   "execution_count": null,
   "metadata": {},
   "outputs": [],
   "source": [
    "#pip install scikit-learn"
   ]
  },
  {
   "cell_type": "code",
   "execution_count": null,
   "metadata": {},
   "outputs": [],
   "source": [
    "import time\n",
    "import multiprocessing\n",
    "from sklearn.datasets import fetch_20newsgroups"
   ]
  },
  {
   "cell_type": "code",
   "execution_count": null,
   "metadata": {},
   "outputs": [],
   "source": [
    "start_time = time.time()\n",
    "newsgroups_data = fetch_20newsgroups(subset='all',\n",
    "                                     remove=('headers', 'footers', 'quotes')\n",
    "                                     )\n",
    "end_time = time.time()\n",
    "print(f\"Dataset cargado en {end_time - start_time:.2f} segundos.\")\n",
    "documents = newsgroups_data.data\n",
    "num_docs = len(documents)\n",
    "print(f\"Número de documentos a procesar: {num_docs}\")"
   ]
  },
  {
   "cell_type": "code",
   "execution_count": null,
   "metadata": {},
   "outputs": [],
   "source": [
    "def process_document_simple(text):\n",
    "    word_count = 0\n",
    "    if text:\n",
    "        word_count = len(text.split())\n",
    "        time.sleep(0.0001)\n",
    "    return word_count\n",
    "\n",
    "if num_docs > 0:\n",
    "    sample_result = process_document_simple(documents[0])\n",
    "    print(\"\\nPrueba de la función de procesamiento:\")\n",
    "    print(f\"  Palabras en el primer documento: {sample_result}\")\n",
    "    print(f\"  Texto inicial del primer documento: '{documents[0][:100]}...'\")\n",
    "else:\n",
    "    print(\"\\nNo hay documentos para probar la función.\")"
   ]
  },
  {
   "cell_type": "code",
   "execution_count": null,
   "metadata": {},
   "outputs": [],
   "source": [
    "print(\"\\n--- Iniciando Procesamiento Secuencial ---\")\n",
    "start_seq = time.time()\n",
    "\n",
    "sequential_results = [process_document_simple(doc) for doc in documents]\n",
    "\n",
    "end_seq = time.time()\n",
    "sequential_time = end_seq - start_seq\n",
    "\n",
    "print(\"Procesamiento Secuencial COMPLETADO.\")\n",
    "print(f\"Tiempo total: {sequential_time:.4f} segundos.\")\n",
    "print(f\"Número de resultados obtenidos: {len(sequential_results)}\")\n",
    "print(f\"Resultados (conteo palabras) de los primeros 5 docs: {sequential_results[:5]}\")"
   ]
  },
  {
   "cell_type": "code",
   "execution_count": null,
   "metadata": {},
   "outputs": [],
   "source": [
    "print(\"\\n--- Iniciando Procesamiento Paralelo ---\")\n",
    "\n",
    "num_processes = multiprocessing.cpu_count()\n",
    "print(f\"Número de procesos a utilizar: {num_processes}\")\n",
    "\n",
    "start_par = time.time()\n",
    "\n",
    "with multiprocessing.Pool(processes=num_processes) as pool:\n",
    "    parallel_results = pool.map(process_document_simple, documents)\n",
    "\n",
    "end_par = time.time()\n",
    "parallel_time = end_par - start_par\n",
    "\n",
    "print(\"Procesamiento Paralelo COMPLETADO.\")\n",
    "print(f\"Tiempo total: {parallel_time:.4f} segundos.\")\n",
    "print(f\"Número de resultados obtenidos: {len(parallel_results)}\")\n",
    "print(f\"Resultados (conteo palabras) de los primeros 5 docs: {parallel_results[:5]}\")"
   ]
  }
 ],
 "metadata": {
  "kernelspec": {
   "display_name": ".venv",
   "language": "python",
   "name": "python3"
  },
  "language_info": {
   "codemirror_mode": {
    "name": "ipython",
    "version": 3
   },
   "file_extension": ".py",
   "mimetype": "text/x-python",
   "name": "python",
   "nbconvert_exporter": "python",
   "pygments_lexer": "ipython3",
   "version": "3.9.0"
  }
 },
 "nbformat": 4,
 "nbformat_minor": 2
}
